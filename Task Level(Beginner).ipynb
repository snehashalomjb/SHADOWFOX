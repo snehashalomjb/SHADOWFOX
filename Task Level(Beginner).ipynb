{
 "cells": [
  {
   "cell_type": "markdown",
   "id": "5964f79d-0bf3-44c1-a57d-c1ad327210cd",
   "metadata": {},
   "source": [
    "## ShadowFox Task Level(Beginner)"
   ]
  },
  {
   "cell_type": "markdown",
   "id": "793d43b8-ff76-4b26-a62f-2d8ecd5c7240",
   "metadata": {},
   "source": [
    "# 1. VARIABLES"
   ]
  },
  {
   "cell_type": "markdown",
   "id": "e7a8b2fd-c97a-4b87-91df-13d1ccf8dbe3",
   "metadata": {},
   "source": [
    "## 1.Create a variable named pi and store the value 22/7 in it. Now check the data type of this variable ."
   ]
  },
  {
   "cell_type": "code",
   "execution_count": 1,
   "id": "5601fbe9-aeec-4bdd-80ef-e890b4d49cf0",
   "metadata": {},
   "outputs": [
    {
     "name": "stdout",
     "output_type": "stream",
     "text": [
      "<class 'float'>\n"
     ]
    }
   ],
   "source": [
    "pi = 22/7\n",
    "print(type(pi))"
   ]
  },
  {
   "cell_type": "markdown",
   "id": "1cf1f067-1dd6-410e-9477-7f7b1f40c05e",
   "metadata": {},
   "source": [
    "## 2.Create a variable called for and assign it a value 4. See what happens and find out the reason behind the behavior that you see."
   ]
  },
  {
   "cell_type": "code",
   "execution_count": 2,
   "id": "38ead344-a9ce-4d04-b0b7-784cffc2d883",
   "metadata": {},
   "outputs": [
    {
     "ename": "SyntaxError",
     "evalue": "invalid syntax (2046953698.py, line 1)",
     "output_type": "error",
     "traceback": [
      "\u001b[1;36m  Cell \u001b[1;32mIn[2], line 1\u001b[1;36m\u001b[0m\n\u001b[1;33m    for = 4\u001b[0m\n\u001b[1;37m        ^\u001b[0m\n\u001b[1;31mSyntaxError\u001b[0m\u001b[1;31m:\u001b[0m invalid syntax\n"
     ]
    }
   ],
   "source": [
    "for = 4"
   ]
  },
  {
   "cell_type": "code",
   "execution_count": null,
   "id": "7ff266f4-c91d-468b-9f46-302f2d2cd2c2",
   "metadata": {},
   "outputs": [],
   "source": [
    "It displays an error when we run it because \"for\" is a keyword, and keywords cannot be used as variable names.\n",
    "\n",
    "Here are the rules to follow when naming variables:\n",
    "\n",
    "a. Variable names cannot start with digits (0-9) or special characters, except for the underscore (_).\n",
    "\n",
    "b. Variable names must not be keywords.\n",
    "\n",
    "c. Variable names are case-sensitive."
   ]
  },
  {
   "cell_type": "markdown",
   "id": "15218029-4b7e-4cd7-80b1-5408dccefafd",
   "metadata": {},
   "source": [
    "## 3.Store the principal amount, rate of interest, and time in different variables and then calculate the Simple Interest for 3 years. Formula: Simple Interest = P x R x T / 100"
   ]
  },
  {
   "cell_type": "code",
   "execution_count": 4,
   "id": "6360f13f-956d-4409-890c-0f0e64fe8abc",
   "metadata": {},
   "outputs": [
    {
     "name": "stdin",
     "output_type": "stream",
     "text": [
      "Principal Amount :  16\n",
      "Rate :  1000\n"
     ]
    },
    {
     "name": "stdout",
     "output_type": "stream",
     "text": [
      "Simple Interest for  3  years is Rs. 480.0\n"
     ]
    }
   ],
   "source": [
    "principal = float(input(\"Principal Amount : \"))\n",
    "rate = float(input(\"Rate : \"))\n",
    "time = 3\n",
    "si = (principal*rate*time)/100\n",
    "print(\"Simple Interest for \",time,\" years is Rs.\",float(si))"
   ]
  },
  {
   "cell_type": "markdown",
   "id": "58d06f8f-cb76-48c3-a1b5-4753fb405a75",
   "metadata": {},
   "source": [
    "# 2. NUMBERS"
   ]
  },
  {
   "cell_type": "markdown",
   "id": "20d14e51-7d14-4d33-80d5-ea75f287c6d3",
   "metadata": {},
   "source": [
    "## 1. Write a function that takes two arguments, 145 and 'o' , and uses the format function to return a formatted string. Print the result. Try to identify the representation used."
   ]
  },
  {
   "cell_type": "code",
   "execution_count": 6,
   "id": "580c95f2-8789-44d3-9740-08d4e3d77215",
   "metadata": {},
   "outputs": [
    {
     "name": "stdout",
     "output_type": "stream",
     "text": [
      "143o\n"
     ]
    }
   ],
   "source": [
    "def FormatString (num, char):\n",
    "  format_str = \"{:d}{:s}\".format(num,char)\n",
    "  return format_str\n",
    "\n",
    "result = FormatString(143,\"o\")\n",
    "print(result)"
   ]
  },
  {
   "cell_type": "markdown",
   "id": "c81bf9f2-8246-4e5c-9994-03e5d5860216",
   "metadata": {},
   "source": [
    "The representation used here is \"d\" for integer and \"s\" for string."
   ]
  },
  {
   "cell_type": "markdown",
   "id": "3e484682-658d-45a4-b258-ab9643ef3f56",
   "metadata": {},
   "source": [
    "## 2. In a village, there is a circular pond with a radius of 84 meters. Calculate the area of the pond using the formula: Circle Area = π r^2. (Use the value 3.14 for π) Bonus Question: If there is exactly 1.4 liters of water in a square meter, what is the total amount of water in the pond? Print the answer without any decimal point in it. Hint: Circle Area = π r^2 Water in the pond = Pond Area Water per Square Meter"
   ]
  },
  {
   "cell_type": "code",
   "execution_count": 9,
   "id": "23a0deab-8f66-4120-9cf1-3814a4707869",
   "metadata": {},
   "outputs": [
    {
     "name": "stdout",
     "output_type": "stream",
     "text": [
      "Area of the Pond is : 25434.0 sq.m\n",
      "Total amount of water in the Pond is : 35607 Lts\n"
     ]
    }
   ],
   "source": [
    "radius = 90\n",
    "Pond_Area = 3.14 *(radius**2)\n",
    "water_sqmtr = 1.4\n",
    "total_amt = Pond_Area * water_sqmtr\n",
    "print(\"Area of the Pond is :\",Pond_Area,\"sq.m\")\n",
    "print(\"Total amount of water in the Pond is :\",int(total_amt),\"Lts\")"
   ]
  },
  {
   "cell_type": "markdown",
   "id": "915bd1f1-2bae-41d1-b46a-069fe9a97f8f",
   "metadata": {},
   "source": [
    "## 3. If you cross a 490meterlong street in 7 minutes, calculate your speed in meters per second. Print the answer without any decimal point in it. Hint: Speed = Distance / Time"
   ]
  },
  {
   "cell_type": "code",
   "execution_count": 10,
   "id": "b64f5744-ead0-4183-9041-a47eae5489b5",
   "metadata": {},
   "outputs": [
    {
     "name": "stdin",
     "output_type": "stream",
     "text": [
      "Enter the distance in meters : 500\n"
     ]
    },
    {
     "name": "stdout",
     "output_type": "stream",
     "text": [
      "Enter the time as follows :\n"
     ]
    },
    {
     "name": "stdin",
     "output_type": "stream",
     "text": [
      "Hours :  3\n",
      "Minutes :  20\n",
      "Seconds :  40\n"
     ]
    },
    {
     "name": "stdout",
     "output_type": "stream",
     "text": [
      "Time in seconds :  12040 s\n",
      "Spped in meters per second is  0  m/s\n"
     ]
    }
   ],
   "source": [
    "def time_in_seconds(hours , minutes , seconds):\n",
    "  convert_seconds = (hours*3600) + (minutes*60) + seconds\n",
    "  return convert_seconds\n",
    "\n",
    "distance = int(input(\"Enter the distance in meters :\"))\n",
    "print(\"Enter the time as follows :\")\n",
    "hours = int(input(\"Hours : \"))\n",
    "minutes = int(input(\"Minutes : \"))\n",
    "seconds = int(input(\"Seconds : \"))\n",
    "time = time_in_seconds(hours , minutes , seconds)\n",
    "print(\"Time in seconds : \",time,\"s\")\n",
    "speed = distance/time\n",
    "print(\"Spped in meters per second is \",int(speed),\" m/s\")"
   ]
  },
  {
   "cell_type": "markdown",
   "id": "faa8fea2-100d-47d5-9de5-9071c7eba12f",
   "metadata": {},
   "source": [
    "## 3. LIST"
   ]
  },
  {
   "cell_type": "markdown",
   "id": "1e49799e-9c75-4691-884d-268c5f34aea2",
   "metadata": {},
   "source": [
    "## 1. You have a list of superheroes representing the Justice League. justice_league = [\"Superman\", \"Batman\" , \"Wonder Woman\" , \"Flash\" , \"Aquaman\" , \"Green Lantern\"] Perform the following tasks:"
   ]
  },
  {
   "cell_type": "markdown",
   "id": "b2a03e65-2385-4f20-b3d2-1734f6c60a3d",
   "metadata": {},
   "source": [
    "## i). Calculate the number of members in the Justice League."
   ]
  },
  {
   "cell_type": "code",
   "execution_count": 12,
   "id": "0c108869-2836-405c-9875-bf4ec2058bc3",
   "metadata": {},
   "outputs": [
    {
     "name": "stdout",
     "output_type": "stream",
     "text": [
      "There are 6 members in the Justice League.\n"
     ]
    }
   ],
   "source": [
    "justice_league = [\"Superman\", \"Batman\" , \"Wonder Woman\" , \"Flash\" , \"Aquaman\" , \"Green Lantern\"]\n",
    "print(\"There are\",len(justice_league),\"members in the Justice League.\")"
   ]
  },
  {
   "cell_type": "markdown",
   "id": "afb9b95e-47be-4aa4-9213-e8dc5195c04e",
   "metadata": {},
   "source": [
    "## ii).Batman recruited Batgirl and Nightwing as new members. Add them to your list."
   ]
  },
  {
   "cell_type": "code",
   "execution_count": 13,
   "id": "e27d9fd5-b884-4fc2-b349-3f55a248541d",
   "metadata": {},
   "outputs": [
    {
     "name": "stdout",
     "output_type": "stream",
     "text": [
      "Members of Justice League after adding two new members :\n",
      " ['Superman', 'Batman', 'Wonder Woman', 'Flash', 'Aquaman', 'Green Lantern', 'Batgirl', 'Nightwing']\n"
     ]
    }
   ],
   "source": [
    "justice_league.append(\"Batgirl\")\n",
    "justice_league.append(\"Nightwing\")\n",
    "print(\"Members of Justice League after adding two new members :\\n\",justice_league)"
   ]
  },
  {
   "cell_type": "markdown",
   "id": "420d355d-e7c5-4973-8c2f-58220cf841ca",
   "metadata": {},
   "source": [
    "## iii). Wonder Woman is now the leader of the Justice League. Move her to the beginning of the list."
   ]
  },
  {
   "cell_type": "code",
   "execution_count": 14,
   "id": "2784af45-4db0-4562-88b7-42f67012caec",
   "metadata": {},
   "outputs": [
    {
     "name": "stdout",
     "output_type": "stream",
     "text": [
      "['Wonder Woman', 'Superman', 'Batman', 'Flash', 'Aquaman', 'Green Lantern', 'Batgirl', 'Nightwing']\n"
     ]
    }
   ],
   "source": [
    "wonderwoman_index = justice_league.index(\"Wonder Woman\")\n",
    "wonderwoman = justice_league.pop(wonderwoman_index)\n",
    "justice_league.insert(0, wonderwoman)\n",
    "print(justice_league)"
   ]
  },
  {
   "cell_type": "markdown",
   "id": "0a90a01c-bc4a-45ee-a2c4-36a9f19a81ac",
   "metadata": {},
   "source": [
    "## iv). Aquaman and Flash are having conflicts, and you need to separate them. Choose either \"Green Lantern\" or \"Superman\" and move them in between Aquaman and Flash."
   ]
  },
  {
   "cell_type": "code",
   "execution_count": 17,
   "id": "0adfcb49-05cc-4e2d-b156-548712d21537",
   "metadata": {},
   "outputs": [
    {
     "name": "stdin",
     "output_type": "stream",
     "text": [
      "Choose either 'Green Lantern' or 'Superman':  Superman\n"
     ]
    },
    {
     "name": "stdout",
     "output_type": "stream",
     "text": [
      "Updated Justice League: ['Wonder Woman', 'Batman', 'Flash', 'Superman', 'Aquaman', 'Green Lantern', 'Batgirl', 'Nightwing']\n"
     ]
    }
   ],
   "source": [
    "chosenhero = input(\"Choose either 'Green Lantern' or 'Superman': \")\n",
    "if chosenhero in [\"Green Lantern\", \"Superman\"]:\n",
    "    justice_league.remove(chosenhero)\n",
    "    aquamanindex = justice_league.index(\"Aquaman\")\n",
    "    flashindex = justice_league.index(\"Flash\")\n",
    "    if aquamanindex < flashindex:\n",
    "        justice_league.insert(flashindex, chosenhero)\n",
    "    else:\n",
    "        justice_league.insert(aquamanindex, chosenhero)\n",
    "    print(\"Updated Justice League:\", justice_league)\n",
    "else:\n",
    "    print(\"Invalid choice. Please choose either 'Green Lantern' or 'Superman'.\")\n"
   ]
  },
  {
   "cell_type": "markdown",
   "id": "8c128ea1-d7ea-4291-953d-4753123ca8a9",
   "metadata": {},
   "source": [
    "## v). The Justice League faced a crisis, and Superman decided to assemble a new team. Replace the existing list with the following new members: \"Cyborg\" , \"Shazam\" , \"Hawkgirl\" , \"Martian Manhunter\" , \"Green Arrow\"."
   ]
  },
  {
   "cell_type": "code",
   "execution_count": 18,
   "id": "213d6606-da5d-43c6-9403-9963a72419a0",
   "metadata": {},
   "outputs": [
    {
     "name": "stdout",
     "output_type": "stream",
     "text": [
      "New Justice League team assembled by Superman: ['Superman', 'Cyborg', 'Shazam', 'Hawkgirl', 'Martian Manhunter', 'Green Arrow']\n"
     ]
    }
   ],
   "source": [
    "new_team = [\"Superman\", \"Cyborg\", \"Shazam\", \"Hawkgirl\", \"Martian Manhunter\", \"Green Arrow\"]\n",
    "justice_league = new_team\n",
    "print(\"New Justice League team assembled by Superman:\", justice_league)"
   ]
  },
  {
   "cell_type": "markdown",
   "id": "1171507b-3da9-48b1-9b9e-974695b8d387",
   "metadata": {},
   "source": [
    "## vi). 6. Sort the Justice League alphabetically. The hero at the 0th index will become the new leader."
   ]
  },
  {
   "cell_type": "code",
   "execution_count": 19,
   "id": "973e0d4b-6724-427f-8a93-02d21e0afa96",
   "metadata": {},
   "outputs": [
    {
     "name": "stdout",
     "output_type": "stream",
     "text": [
      "Sorted Justice League  ['Cyborg', 'Green Arrow', 'Hawkgirl', 'Martian Manhunter', 'Shazam', 'Superman']\n",
      "New leader is : Cyborg\n"
     ]
    }
   ],
   "source": [
    "justice_league.sort()\n",
    "new_leader = justice_league[0]\n",
    "print(\"Sorted Justice League \", justice_league)\n",
    "print(\"New leader is :\",new_leader)"
   ]
  },
  {
   "cell_type": "markdown",
   "id": "d9d2fe57-4e7a-4d29-ae1b-031b5d28395d",
   "metadata": {},
   "source": [
    "## 4. IF CONDITION"
   ]
  },
  {
   "cell_type": "markdown",
   "id": "fa7d5e83-dc00-4633-a228-8bef542d050d",
   "metadata": {},
   "source": [
    "## 1. Write a program to determine the BMI Category based on user input."
   ]
  },
  {
   "cell_type": "code",
   "execution_count": null,
   "id": "03479205-4b33-40f0-bd34-46f853468433",
   "metadata": {},
   "outputs": [],
   "source": [
    "Ask the user to :\n",
    "Enter height in meters\n",
    "Enter weight in kilograms\n",
    "Calculate BMI using the formula: BMI = weight / (height)2\n",
    "\n",
    "Use the following categories:\n",
    "\n",
    "If BMI is 30 or greater, print Obesity\n",
    "\n",
    "If BMI is between 25 and 29, print Overweight\n",
    "If BMI is between 18.5 and 25, print Normal\n",
    "If BMI is less than 18.5, print Underweightweight\"**erweight\""
   ]
  },
  {
   "cell_type": "code",
   "execution_count": 23,
   "id": "2ac9387c-3ad5-473b-8ebb-5ab0c9c0e996",
   "metadata": {},
   "outputs": [
    {
     "name": "stdin",
     "output_type": "stream",
     "text": [
      "Enter height in meters :  5\n",
      "Enter weight in kilograms :  1000\n"
     ]
    },
    {
     "name": "stdout",
     "output_type": "stream",
     "text": [
      "Obesity\n"
     ]
    }
   ],
   "source": [
    "height = float(input(\"Enter height in meters : \"))\n",
    "weight = float(input(\"Enter weight in kilograms : \"))\n",
    "BMI = weight / (height)**2\n",
    "\n",
    "if BMI>=30 :\n",
    "  print(\"Obesity\")\n",
    "elif BMI in range (25 , 29) :\n",
    "  print(\"Overweight\")\n",
    "elif BMI>18.5 and BMI<25 :\n",
    "  print(\"Normal\")\n",
    "elif BMI < 18.5 :\n",
    "  print(\"Underweight\")"
   ]
  },
  {
   "cell_type": "markdown",
   "id": "02fd6814-a335-4d3d-afba-7ecf38ca1fc9",
   "metadata": {},
   "source": [
    "## 2. Write a program to determine which country a city belongs to. Given list of cities per country:"
   ]
  },
  {
   "cell_type": "code",
   "execution_count": null,
   "id": "0d597b5f-b1cd-480e-8e11-191eef757b8b",
   "metadata": {},
   "outputs": [],
   "source": [
    "Australia = [\"Sydney\",\"Melbourne\",\"Brisbane\",\"Perth\"\n",
    "\n",
    "UAE = [\"Dubai\",\"Abu Dhabi\",\"Sharjah\",\"Ajma]\n",
    "\n",
    "I India = [\"Mumbai\",\"Bangalore\",\"Chennai\",\"Delh\n",
    "\n",
    "\"] Ask the user to enter a city name and print the corresponding country."
   ]
  },
  {
   "cell_type": "code",
   "execution_count": 24,
   "id": "8862236f-1ac7-4079-82aa-37eed69b877b",
   "metadata": {},
   "outputs": [
    {
     "name": "stdin",
     "output_type": "stream",
     "text": [
      "Enter a city name:  Bangalore\n"
     ]
    },
    {
     "name": "stdout",
     "output_type": "stream",
     "text": [
      "Bangalore is in India\n"
     ]
    }
   ],
   "source": [
    "def findcountry(city):\n",
    "    australia = [\"Sydney\", \"Melbourne\", \"Brisbane\", \"Perth\"]\n",
    "    uae = [\"Dubai\", \"Abu Dhabi\", \"Sharjah\", \"Ajman\"]\n",
    "    india = [\"Mumbai\", \"Bangalore\", \"Chennai\", \"Delhi\"]\n",
    "\n",
    "    if city in australia:\n",
    "        return \"Australia\"\n",
    "    elif city in uae:\n",
    "        return \"UAE\"\n",
    "    elif city in india:\n",
    "        return \"India\"\n",
    "    else:\n",
    "        return \"Unknown\"\n",
    "\n",
    "cityname = input(\"Enter a city name: \")\n",
    "country = findcountry(cityname)\n",
    "\n",
    "if country != \"Unknown\":\n",
    "    print(f\"{cityname} is in {country}\")\n",
    "else:\n",
    "    print(\"City not found in the given list.\")"
   ]
  },
  {
   "cell_type": "markdown",
   "id": "c0bb657c-b553-4335-9183-48e01ad14e63",
   "metadata": {},
   "source": [
    "## 3.Write a program to check if two cities belong to the same country. Ask the user to enter two cities and print whether they belong to the same country or not."
   ]
  },
  {
   "cell_type": "code",
   "execution_count": 25,
   "id": "9c8cf18e-430c-4abc-ac0b-e69338347638",
   "metadata": {
    "collapsed": true,
    "jupyter": {
     "outputs_hidden": true
    }
   },
   "outputs": [
    {
     "name": "stdin",
     "output_type": "stream",
     "text": [
      "Enter the first city:  Bangalore\n",
      "Enter the second city:  Abu Dhabi\n"
     ]
    },
    {
     "name": "stdout",
     "output_type": "stream",
     "text": [
      "They don't belong to the same country\n"
     ]
    }
   ],
   "source": [
    "def findcountry(city):\n",
    "    australia = [\"Sydney\", \"Melbourne\", \"Brisbane\", \"Perth\"]\n",
    "    uae = [\"Dubai\", \"Abu Dhabi\", \"Sharjah\", \"Ajman\"]\n",
    "    india = [\"Mumbai\", \"Bangalore\", \"Chennai\", \"Delhi\"]\n",
    "\n",
    "    if city in australia:\n",
    "        return \"Australia\"\n",
    "    elif city in uae:\n",
    "        return \"UAE\"\n",
    "    elif city in india:\n",
    "        return \"India\"\n",
    "    else:\n",
    "        return \"Unknown\"\n",
    "\n",
    "def same_country(cit1, cit2):\n",
    "    cont1 = findcountry(cit1)\n",
    "    cont2 = findcountry(cit2)\n",
    "\n",
    "    if cont1 == cont2:\n",
    "        return f\"Both cities are in {cont1}\"\n",
    "    else:\n",
    "        return \"They don't belong to the same country\"\n",
    "\n",
    "fst_city = input(\"Enter the first city: \")\n",
    "sec_city = input(\"Enter the second city: \")\n",
    "\n",
    "result = same_country(fst_city, sec_city)\n",
    "print(result)"
   ]
  },
  {
   "cell_type": "markdown",
   "id": "f5a0ed5b-5578-4e3d-924a-62914fb025da",
   "metadata": {},
   "source": [
    "## 9. INHERITANCE"
   ]
  },
  {
   "cell_type": "markdown",
   "id": "960a49f6-1300-4c24-aea5-f6420a1ac34e",
   "metadata": {},
   "source": [
    "# 1.Create inheritance using MobilePhone as base class and Apple & Samsung as child class The base class should have properties:"
   ]
  },
  {
   "cell_type": "code",
   "execution_count": null,
   "id": "5ee23943-45eb-4752-b816-bc1b79d73aa2",
   "metadata": {},
   "outputs": [],
   "source": [
    "1).ScreenType = Touch Screen\n",
    "2).NetworkType = 4G 5G\n",
    "3).DualSim = True or False\n",
    "4).FrontCamera = (5MP/8MP/12MP/16MP)\n",
    "5).rearCamera = (8MP/12MP/16MP/32MP/48MP)\n",
    "6).RAM = (2GB/3GB/4GB)\n",
    "7).Storage = (16GB/32GB/64GB)"
   ]
  },
  {
   "cell_type": "code",
   "execution_count": 26,
   "id": "f3f7b997-2655-44b5-adcb-cb94078fe5d3",
   "metadata": {},
   "outputs": [
    {
     "name": "stdout",
     "output_type": "stream",
     "text": [
      "iPhone Specs:\n",
      "Screen Type: Retina Display\n",
      "Network Type: 5G\n",
      "Dual Sim: False\n",
      "Front Camera: 12MP\n",
      "Rear Camera: 32MP\n",
      "RAM: 4GB\n",
      "Storage: 64GB\n",
      "\n",
      "Galaxy Specs:\n",
      "Screen Type: AMOLED\n",
      "Network Type: 5G\n",
      "Dual Sim: True\n",
      "Front Camera: 16MP\n",
      "Rear Camera: 48MP\n",
      "RAM: 6GB\n",
      "Storage: 128GB\n"
     ]
    }
   ],
   "source": [
    "class MobilePhone:\n",
    "    def __init__(self, screen_type=\"Touch Screen\", network_type=\"4G/5G\", dual_sim=False, front_camera=\"5MP\", rear_camera=\"8MP\", ram=\"2GB\", storage=\"16GB\"):\n",
    "        self.screen_type = screen_type\n",
    "        self.network_type = network_type\n",
    "        self.dual_sim = dual_sim\n",
    "        self.front_camera = front_camera\n",
    "        self.rear_camera = rear_camera\n",
    "        self.ram = ram\n",
    "        self.storage = storage\n",
    "\n",
    "class Apple(MobilePhone):\n",
    "    def __init__(self, model, screen_type=\"Retina Display\", network_type=\"5G\", dual_sim=False, front_camera=\"12MP\", rear_camera=\"32MP\", ram=\"4GB\", storage=\"64GB\"):\n",
    "        self.model = model\n",
    "        MobilePhone.__init__(self, screen_type, network_type, dual_sim, front_camera, rear_camera, ram, storage)\n",
    "\n",
    "class Samsung(MobilePhone):\n",
    "    def __init__(self, model, screen_type=\"AMOLED\", network_type=\"5G\", dual_sim=True, front_camera=\"16MP\", rear_camera=\"48MP\", ram=\"6GB\", storage=\"128GB\"):\n",
    "        self.model = model\n",
    "        MobilePhone.__init__(self, screen_type, network_type, dual_sim, front_camera, rear_camera, ram, storage)\n",
    "\n",
    "iphone = Apple(model=\"iPhone 13\")\n",
    "galaxy = Samsung(model=\"Galaxy S21\")\n",
    "\n",
    "print(\"iPhone Specs:\")\n",
    "print(\"Screen Type:\", iphone.screen_type)\n",
    "print(\"Network Type:\", iphone.network_type)\n",
    "print(\"Dual Sim:\", iphone.dual_sim)\n",
    "print(\"Front Camera:\", iphone.front_camera)\n",
    "print(\"Rear Camera:\", iphone.rear_camera)\n",
    "print(\"RAM:\", iphone.ram)\n",
    "print(\"Storage:\", iphone.storage)\n",
    "print()\n",
    "\n",
    "print(\"Galaxy Specs:\")\n",
    "print(\"Screen Type:\", galaxy.screen_type)\n",
    "print(\"Network Type:\", galaxy.network_type)\n",
    "print(\"Dual Sim:\", galaxy.dual_sim)\n",
    "print(\"Front Camera:\", galaxy.front_camera)\n",
    "print(\"Rear Camera:\", galaxy.rear_camera)\n",
    "print(\"RAM:\", galaxy.ram)\n",
    "print(\"Storage:\", galaxy.storage)"
   ]
  },
  {
   "cell_type": "markdown",
   "id": "eb4a05f6-15be-43e7-a6a5-9b18d052e043",
   "metadata": {},
   "source": [
    "# 2. Create basic mobile phone functionalities in the classes like: make_call, recieve_call, take_a_picture, etc."
   ]
  },
  {
   "cell_type": "code",
   "execution_count": 28,
   "id": "ecfe4973-9a11-4934-a0f8-15b2978978d9",
   "metadata": {},
   "outputs": [
    {
     "name": "stdout",
     "output_type": "stream",
     "text": [
      "iPhone Specs:\n",
      "Screen Type: Retina Display\n",
      "Network Type: 5G\n",
      "Dual Sim: False\n",
      "Front Camera: 12MP\n",
      "Rear Camera: 32MP\n",
      "RAM: 4GB\n",
      "Storage: 64GB\n",
      "Model: iPhone 13\n",
      "\n",
      "Galaxy Specs:\n",
      "Screen Type: AMOLED\n",
      "Network Type: 5G\n",
      "Dual Sim: True\n",
      "Front Camera: 16MP\n",
      "Rear Camera: 48MP\n",
      "RAM: 6GB\n",
      "Storage: 128GB\n",
      "Model: Galaxy S21\n",
      "\n",
      "Calling 1234567890...\n",
      "Call from pa is received.\n",
      "Picture taken!\n",
      "\n",
      "Calling 0987654321...\n",
      "Call from Rakshahi is received.\n",
      "Picture taken!\n"
     ]
    }
   ],
   "source": [
    "class MobilePhone:\n",
    "    def __init__(self, screen_type=\"Touch Screen\", network_type=\"4G/5G\", dual_sim=False, front_camera=\"5MP\", rear_camera=\"8MP\", ram=\"2GB\", storage=\"16GB\"):\n",
    "        self.screen_type = screen_type\n",
    "        self.network_type = network_type\n",
    "        self.dual_sim = dual_sim\n",
    "        self.front_camera = front_camera\n",
    "        self.rear_camera = rear_camera\n",
    "        self.ram = ram\n",
    "        self.storage = storage\n",
    "\n",
    "    def make_call(self, number):\n",
    "        print(f\"Calling {number}...\")\n",
    "\n",
    "    def receive_call(self, caller):\n",
    "        print(f\"Call from {caller} is received.\")\n",
    "\n",
    "    def take_a_picture(self):\n",
    "        print(\"Picture taken!\")\n",
    "\n",
    "\n",
    "class Apple(MobilePhone):\n",
    "    def __init__(self, model, screen_type=\"Retina Display\", network_type=\"5G\", dual_sim=False, front_camera=\"12MP\", rear_camera=\"32MP\", ram=\"4GB\", storage=\"64GB\"):\n",
    "        self.model = model\n",
    "        MobilePhone.__init__(self, screen_type, network_type, dual_sim, front_camera, rear_camera, ram, storage)\n",
    "\n",
    "\n",
    "class Samsung(MobilePhone):\n",
    "    def __init__(self, model, screen_type=\"AMOLED\", network_type=\"5G\", dual_sim=True, front_camera=\"16MP\", rear_camera=\"48MP\", ram=\"6GB\", storage=\"128GB\"):\n",
    "        self.model = model\n",
    "        MobilePhone.__init__(self, screen_type, network_type, dual_sim, front_camera, rear_camera, ram, storage)\n",
    "\n",
    "\n",
    "\n",
    "iphone = Apple(model=\"iPhone 13\")\n",
    "galaxy = Samsung(model=\"Galaxy S21\")\n",
    "\n",
    "\n",
    "print(\"iPhone Specs:\")\n",
    "print(\"Screen Type:\", iphone.screen_type)\n",
    "print(\"Network Type:\", iphone.network_type)\n",
    "print(\"Dual Sim:\", iphone.dual_sim)\n",
    "print(\"Front Camera:\", iphone.front_camera)\n",
    "print(\"Rear Camera:\", iphone.rear_camera)\n",
    "print(\"RAM:\", iphone.ram)\n",
    "print(\"Storage:\", iphone.storage)\n",
    "print(\"Model:\", iphone.model)\n",
    "print()\n",
    "\n",
    "print(\"Galaxy Specs:\")\n",
    "print(\"Screen Type:\", galaxy.screen_type)\n",
    "print(\"Network Type:\", galaxy.network_type)\n",
    "print(\"Dual Sim:\", galaxy.dual_sim)\n",
    "print(\"Front Camera:\", galaxy.front_camera)\n",
    "print(\"Rear Camera:\", galaxy.rear_camera)\n",
    "print(\"RAM:\", galaxy.ram)\n",
    "print(\"Storage:\", galaxy.storage)\n",
    "print(\"Model:\", galaxy.model)\n",
    "print()\n",
    "\n",
    "iphone.make_call(\"1234567890\")\n",
    "iphone.receive_call(\"pa\")\n",
    "iphone.take_a_picture()\n",
    "\n",
    "print()\n",
    "\n",
    "galaxy.make_call(\"0987654321\")\n",
    "galaxy.receive_call(\"Rakshahi\")\n",
    "galaxy.take_a_picture()"
   ]
  },
  {
   "cell_type": "markdown",
   "id": "9412855a-3831-418e-b38b-33048dc39bac",
   "metadata": {},
   "source": [
    "## 3. Use super() constructor for calling parent class’s constructor"
   ]
  },
  {
   "cell_type": "code",
   "execution_count": 29,
   "id": "b4b49434-33a8-4d38-94b5-de61acc92522",
   "metadata": {},
   "outputs": [
    {
     "name": "stdout",
     "output_type": "stream",
     "text": [
      "iPhone Specs:\n",
      "Screen Type: Retina Display\n",
      "Network Type: 5G\n",
      "Dual Sim: False\n",
      "Front Camera: 12MP\n",
      "Rear Camera: 32MP\n",
      "RAM: 4GB\n",
      "Storage: 64GB\n",
      "Model: iPhone 13\n",
      "\n",
      "Galaxy Specs:\n",
      "Screen Type: AMOLED\n",
      "Network Type: 5G\n",
      "Dual Sim: True\n",
      "Front Camera: 16MP\n",
      "Rear Camera: 48MP\n",
      "RAM: 6GB\n",
      "Storage: 128GB\n",
      "Model: Galaxy S21\n",
      "\n",
      "Calling 1234567890...\n",
      "Call from Yogan is received.\n",
      "Picture taken!\n",
      "\n",
      "Calling 09876543247...\n",
      "Call from Sneha is received.\n",
      "Picture taken!\n"
     ]
    }
   ],
   "source": [
    "class MobilePhone:\n",
    "    def __init__(self, screen_type=\"Touch Screen\", network_type=\"4G/5G\", dual_sim=False, front_camera=\"5MP\", rear_camera=\"8MP\", ram=\"2GB\", storage=\"16GB\"):\n",
    "        self.screen_type = screen_type\n",
    "        self.network_type = network_type\n",
    "        self.dual_sim = dual_sim\n",
    "        self.front_camera = front_camera\n",
    "        self.rear_camera = rear_camera\n",
    "        self.ram = ram\n",
    "        self.storage = storage\n",
    "\n",
    "    def make_call(self, number):\n",
    "        print(f\"Calling {number}...\")\n",
    "\n",
    "    def receive_call(self, caller):\n",
    "        print(f\"Call from {caller} is received.\")\n",
    "\n",
    "    def take_a_picture(self):\n",
    "        print(\"Picture taken!\")\n",
    "\n",
    "\n",
    "class Apple(MobilePhone):\n",
    "    def __init__(self, model, screen_type=\"Retina Display\", network_type=\"5G\", dual_sim=False, front_camera=\"12MP\", rear_camera=\"32MP\", ram=\"4GB\", storage=\"64GB\"):\n",
    "        self.model = model\n",
    "        super().__init__(screen_type, network_type, dual_sim, front_camera, rear_camera, ram, storage)\n",
    "\n",
    "class Samsung(MobilePhone):\n",
    "    def __init__(self, model, screen_type=\"AMOLED\", network_type=\"5G\", dual_sim=True, front_camera=\"16MP\", rear_camera=\"48MP\", ram=\"6GB\", storage=\"128GB\"):\n",
    "        self.model = model\n",
    "        super().__init__(screen_type, network_type, dual_sim, front_camera, rear_camera, ram, storage)\n",
    "\n",
    "\n",
    "iphone = Apple(model=\"iPhone 13\")\n",
    "galaxy = Samsung(model=\"Galaxy S21\")\n",
    "\n",
    "print(\"iPhone Specs:\")\n",
    "print(\"Screen Type:\", iphone.screen_type)\n",
    "print(\"Network Type:\", iphone.network_type)\n",
    "print(\"Dual Sim:\", iphone.dual_sim)\n",
    "print(\"Front Camera:\", iphone.front_camera)\n",
    "print(\"Rear Camera:\", iphone.rear_camera)\n",
    "print(\"RAM:\", iphone.ram)\n",
    "print(\"Storage:\", iphone.storage)\n",
    "print(\"Model:\", iphone.model)\n",
    "print()\n",
    "\n",
    "print(\"Galaxy Specs:\")\n",
    "print(\"Screen Type:\", galaxy.screen_type)\n",
    "print(\"Network Type:\", galaxy.network_type)\n",
    "print(\"Dual Sim:\", galaxy.dual_sim)\n",
    "print(\"Front Camera:\", galaxy.front_camera)\n",
    "print(\"Rear Camera:\", galaxy.rear_camera)\n",
    "print(\"RAM:\", galaxy.ram)\n",
    "print(\"Storage:\", galaxy.storage)\n",
    "print(\"Model:\", galaxy.model)\n",
    "print()\n",
    "\n",
    "\n",
    "iphone.make_call(\"1234567890\")\n",
    "iphone.receive_call(\"Yogan\")\n",
    "iphone.take_a_picture()\n",
    "\n",
    "print()\n",
    "\n",
    "galaxy.make_call(\"09876543247\")\n",
    "galaxy.receive_call(\"Sneha\")\n",
    "galaxy.take_a_picture()"
   ]
  },
  {
   "cell_type": "markdown",
   "id": "939f7dcd-32ac-4c68-a1ee-bdc2dfa8e3e5",
   "metadata": {},
   "source": [
    "## 4. Make some objects of Apple class with different properties"
   ]
  },
  {
   "cell_type": "code",
   "execution_count": 30,
   "id": "33aeb18f-8aa2-48fd-ae4d-1c4d0e758730",
   "metadata": {},
   "outputs": [
    {
     "name": "stdout",
     "output_type": "stream",
     "text": [
      "iPhone 12 Specs:\n",
      "Model: iPhone 12\n",
      "Screen Type: LCD\n",
      "Front Camera: 8MP\n",
      "Rear Camera: 16MP\n",
      "RAM: 3GB\n",
      "Storage: 128GB\n",
      "\n",
      "iPhone 11 Specs:\n",
      "Model: iPhone 11\n",
      "Screen Type: Retina Display\n",
      "Front Camera: 7MP\n",
      "Rear Camera: 12MP\n",
      "RAM: 4GB\n",
      "Storage: 256GB\n",
      "\n",
      "Calling 1234567890...\n",
      "Call from Yogan is received.\n",
      "Picture taken!\n",
      "\n",
      "Calling 09876543247...\n",
      "Call from Sneha is received.\n",
      "Picture taken!\n"
     ]
    }
   ],
   "source": [
    "class MobilePhone:\n",
    "    def __init__(self, screen_type=\"Touch Screen\", network_type=\"4G/5G\", dual_sim=False, front_camera=\"5MP\", rear_camera=\"8MP\", ram=\"2GB\", storage=\"16GB\"):\n",
    "        self.screen_type = screen_type\n",
    "        self.network_type = network_type\n",
    "        self.dual_sim = dual_sim\n",
    "        self.front_camera = front_camera\n",
    "        self.rear_camera = rear_camera\n",
    "        self.ram = ram\n",
    "        self.storage = storage\n",
    "\n",
    "    def make_call(self, number):\n",
    "        print(f\"Calling {number}...\")\n",
    "\n",
    "    def receive_call(self, caller):\n",
    "        print(f\"Call from {caller} is received.\")\n",
    "\n",
    "    def take_a_picture(self):\n",
    "        print(\"Picture taken!\")\n",
    "\n",
    "\n",
    "class Apple(MobilePhone):\n",
    "    def __init__(self, model, screen_type=\"Retina Display\", network_type=\"5G\", dual_sim=False, front_camera=\"12MP\", rear_camera=\"32MP\", ram=\"4GB\", storage=\"64GB\"):\n",
    "        self.model = model\n",
    "        super().__init__(screen_type, network_type, dual_sim, front_camera, rear_camera, ram, storage)\n",
    "\n",
    "\n",
    "iphone_12 = Apple(model=\"iPhone 12\", screen_type=\"LCD\", front_camera=\"8MP\", rear_camera=\"16MP\", ram=\"3GB\", storage=\"128GB\")\n",
    "iphone_11 = Apple(model=\"iPhone 11\", front_camera=\"7MP\", rear_camera=\"12MP\", ram=\"4GB\", storage=\"256GB\")\n",
    "\n",
    "print(\"iPhone 12 Specs:\")\n",
    "print(\"Model:\", iphone_12.model)\n",
    "print(\"Screen Type:\", iphone_12.screen_type)\n",
    "print(\"Front Camera:\", iphone_12.front_camera)\n",
    "print(\"Rear Camera:\", iphone_12.rear_camera)\n",
    "print(\"RAM:\", iphone_12.ram)\n",
    "print(\"Storage:\", iphone_12.storage)\n",
    "print()\n",
    "\n",
    "print(\"iPhone 11 Specs:\")\n",
    "print(\"Model:\", iphone_11.model)\n",
    "print(\"Screen Type:\", iphone_11.screen_type)\n",
    "print(\"Front Camera:\", iphone_11.front_camera)\n",
    "print(\"Rear Camera:\", iphone_11.rear_camera)\n",
    "print(\"RAM:\", iphone_11.ram)\n",
    "print(\"Storage:\", iphone_11.storage)\n",
    "print()\n",
    "\n",
    "iphone_12.make_call(\"1234567890\")\n",
    "iphone_12.receive_call(\"Yogan\")\n",
    "iphone_12.take_a_picture()\n",
    "\n",
    "print()\n",
    "\n",
    "iphone_11.make_call(\"09876543247\")\n",
    "iphone_11.receive_call(\"Sneha\")\n",
    "iphone_11.take_a_picture()"
   ]
  },
  {
   "cell_type": "markdown",
   "id": "0fb61a30-a9e5-4d5c-b293-dd8ee310d400",
   "metadata": {},
   "source": [
    "## 5. Make some objects of Samsung class with different properties"
   ]
  },
  {
   "cell_type": "code",
   "execution_count": 31,
   "id": "dfa1786a-4b8a-4c8a-9c2f-81658920dea0",
   "metadata": {},
   "outputs": [
    {
     "name": "stdout",
     "output_type": "stream",
     "text": [
      "Galaxy S20 Specs:\n",
      "Model: Galaxy S20\n",
      "Screen Type: Super AMOLED\n",
      "Front Camera: 16MP\n",
      "Rear Camera: 64MP\n",
      "RAM: 8GB\n",
      "Storage: 256GB\n",
      "\n",
      "Galaxy A72 Specs:\n",
      "Model: Galaxy A72\n",
      "Screen Type: AMOLED\n",
      "Front Camera: 32MP\n",
      "Rear Camera: 64MP\n",
      "RAM: 6GB\n",
      "Storage: 128GB\n",
      "\n",
      "Calling 1234567890...\n",
      "Call from Yogan is received.\n",
      "Picture taken!\n",
      "\n",
      "Calling 09876543247...\n",
      "Call from Sneha is received.\n",
      "Picture taken!\n"
     ]
    }
   ],
   "source": [
    "class MobilePhone:\n",
    "    def __init__(self, screen_type=\"Touch Screen\", network_type=\"4G/5G\", dual_sim=False, front_camera=\"5MP\", rear_camera=\"8MP\", ram=\"2GB\", storage=\"16GB\"):\n",
    "        self.screen_type = screen_type\n",
    "        self.network_type = network_type\n",
    "        self.dual_sim = dual_sim\n",
    "        self.front_camera = front_camera\n",
    "        self.rear_camera = rear_camera\n",
    "        self.ram = ram\n",
    "        self.storage = storage\n",
    "\n",
    "    def make_call(self, number):\n",
    "        print(f\"Calling {number}...\")\n",
    "\n",
    "    def receive_call(self, caller):\n",
    "        print(f\"Call from {caller} is received.\")\n",
    "\n",
    "    def take_a_picture(self):\n",
    "        print(\"Picture taken!\")\n",
    "\n",
    "\n",
    "class Samsung(MobilePhone):\n",
    "    def __init__(self, model, screen_type=\"AMOLED\", network_type=\"5G\", dual_sim=True, front_camera=\"16MP\", rear_camera=\"48MP\", ram=\"6GB\", storage=\"128GB\"):\n",
    "        self.model = model\n",
    "        super().__init__(screen_type, network_type, dual_sim, front_camera, rear_camera, ram, storage)\n",
    "\n",
    "galaxy_s20 = Samsung(model=\"Galaxy S20\", screen_type=\"Super AMOLED\", rear_camera=\"64MP\", ram=\"8GB\", storage=\"256GB\")\n",
    "galaxy_a72 = Samsung(model=\"Galaxy A72\", front_camera=\"32MP\", rear_camera=\"64MP\", ram=\"6GB\", storage=\"128GB\")\n",
    "\n",
    "print(\"Galaxy S20 Specs:\")\n",
    "print(\"Model:\", galaxy_s20.model)\n",
    "print(\"Screen Type:\", galaxy_s20.screen_type)\n",
    "print(\"Front Camera:\", galaxy_s20.front_camera)\n",
    "print(\"Rear Camera:\", galaxy_s20.rear_camera)\n",
    "print(\"RAM:\", galaxy_s20.ram)\n",
    "print(\"Storage:\", galaxy_s20.storage)\n",
    "print()\n",
    "\n",
    "print(\"Galaxy A72 Specs:\")\n",
    "print(\"Model:\", galaxy_a72.model)\n",
    "print(\"Screen Type:\", galaxy_a72.screen_type)\n",
    "print(\"Front Camera:\", galaxy_a72.front_camera)\n",
    "print(\"Rear Camera:\", galaxy_a72.rear_camera)\n",
    "print(\"RAM:\", galaxy_a72.ram)\n",
    "print(\"Storage:\", galaxy_a72.storage)\n",
    "print()\n",
    "\n",
    "galaxy_s20.make_call(\"1234567890\")\n",
    "galaxy_s20.receive_call(\"Yogan\")\n",
    "galaxy_s20.take_a_picture()\n",
    "\n",
    "print()\n",
    "\n",
    "galaxy_a72.make_call(\"09876543247\")\n",
    "galaxy_a72.receive_call(\"Sneha\")\n",
    "galaxy_a72.take_a_picture()"
   ]
  },
  {
   "cell_type": "code",
   "execution_count": null,
   "id": "ea642b9c-74fa-45af-9763-66f5a4169044",
   "metadata": {},
   "outputs": [],
   "source": []
  }
 ],
 "metadata": {
  "kernelspec": {
   "display_name": "Python 3 (ipykernel)",
   "language": "python",
   "name": "python3"
  },
  "language_info": {
   "codemirror_mode": {
    "name": "ipython",
    "version": 3
   },
   "file_extension": ".py",
   "mimetype": "text/x-python",
   "name": "python",
   "nbconvert_exporter": "python",
   "pygments_lexer": "ipython3",
   "version": "3.11.9"
  }
 },
 "nbformat": 4,
 "nbformat_minor": 5
}
